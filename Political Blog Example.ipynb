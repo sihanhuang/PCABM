{
 "cells": [
  {
   "cell_type": "code",
   "execution_count": 1,
   "metadata": {},
   "outputs": [],
   "source": [
    "import networkx as nx\n",
    "import numpy as np\n",
    "import pcabm.sc as sc\n",
    "import pcabm.pcabm as pca\n",
    "import pcabm.plem as plem\n",
    "import pcabm.commFunc as cf\n",
    "from sklearn.metrics.cluster import adjusted_rand_score"
   ]
  },
  {
   "cell_type": "markdown",
   "metadata": {},
   "source": [
    "# Data Preprocessing"
   ]
  },
  {
   "cell_type": "code",
   "execution_count": 2,
   "metadata": {},
   "outputs": [],
   "source": [
    "# Read data\n",
    "G = nx.read_gml('Data/polblogs.gml')\n",
    "A = nx.adjacency_matrix(G)\n",
    "A = A.todense()\n",
    "Ab=((A+A.T)!=0).astype(int)\n",
    "np.fill_diagonal(Ab,0)"
   ]
  },
  {
   "cell_type": "code",
   "execution_count": 3,
   "metadata": {},
   "outputs": [],
   "source": [
    "# Find the largest cluster \n",
    "start=0\n",
    "check_set=set(np.nonzero(Ab[start,:])[0])\n",
    "comm_set=set()\n",
    "while len(check_set)>0:\n",
    "    bar = check_set.copy()\n",
    "    for item in bar:\n",
    "        temp=set(np.nonzero(Ab[item,:])[0])-comm_set\n",
    "        check_set=check_set|temp\n",
    "        check_set.discard(item)\n",
    "        comm_set=comm_set|{item}\n",
    "comm_set=np.array(list(comm_set))\n",
    "Ab = np.array(Ab[np.ix_(comm_set,comm_set)])"
   ]
  },
  {
   "cell_type": "code",
   "execution_count": 4,
   "metadata": {},
   "outputs": [],
   "source": [
    "# Create Label\n",
    "label=[]\n",
    "for index in comm_set:\n",
    "    label.append(G.nodes[list(G.nodes.keys())[index]]['value'])\n",
    "label = np.array(label)\n",
    "\n",
    "# Create Covariate\n",
    "k,p,n=2,1,1222\n",
    "degree = sum(Ab)\n",
    "Z = np.zeros(n*n*p);Z=Z.reshape((n,n,p))\n",
    "for i in np.arange(0,n):\n",
    "    for j in np.arange(0,n):\n",
    "        Z[i,j,0] = np.log(degree[i]*degree[j])"
   ]
  },
  {
   "cell_type": "markdown",
   "metadata": {},
   "source": [
    "# Spectral Clustering"
   ]
  },
  {
   "cell_type": "code",
   "execution_count": 5,
   "metadata": {},
   "outputs": [
    {
     "name": "stdout",
     "output_type": "stream",
     "text": [
      "Without regularization:\n",
      "ARI is 0.07990011061571035\n"
     ]
    }
   ],
   "source": [
    "print(\"Without regularization:\")\n",
    "_,_,modelSC = sc.SC(Ab,2)\n",
    "print('ARI is',adjusted_rand_score(modelSC.labels_,label))"
   ]
  },
  {
   "cell_type": "code",
   "execution_count": 6,
   "metadata": {},
   "outputs": [
    {
     "name": "stdout",
     "output_type": "stream",
     "text": [
      "With regularization:\n",
      "ARI is 0.09967800244946386\n"
     ]
    }
   ],
   "source": [
    "print(\"With regularization:\")\n",
    "_,_,modelSC_r = sc.SC_r(Ab,2)\n",
    "print('ARI is',adjusted_rand_score(modelSC_r.labels_,label))"
   ]
  },
  {
   "cell_type": "markdown",
   "metadata": {},
   "source": [
    "# PLEM"
   ]
  },
  {
   "cell_type": "code",
   "execution_count": 7,
   "metadata": {},
   "outputs": [
    {
     "name": "stdout",
     "output_type": "stream",
     "text": [
      "ARI is 0.8013154251090011\n"
     ]
    }
   ],
   "source": [
    "modelPLEM = plem.PLEM(Ab,Z,2)\n",
    "estPLEM,_ = modelPLEM.fit(gt=label)\n",
    "print('ARI is',adjusted_rand_score(estPLEM,label))"
   ]
  },
  {
   "cell_type": "code",
   "execution_count": 8,
   "metadata": {},
   "outputs": [
    {
     "name": "stdout",
     "output_type": "stream",
     "text": [
      "[1.00052433]\n",
      "Lower:  [0.98985114]\n",
      "Upper:  [1.01119752]\n"
     ]
    }
   ],
   "source": [
    "print(modelPLEM.gamma)\n",
    "FI = cf.Info(estPLEM,modelPLEM.gamma,Ab,Z)\n",
    "print('Lower: ',modelPLEM.gamma-1.96*np.sqrt(np.diagonal(np.linalg.inv(FI))))\n",
    "print('Upper: ',modelPLEM.gamma+1.96*np.sqrt(np.diagonal(np.linalg.inv(FI))))"
   ]
  }
 ],
 "metadata": {
  "kernelspec": {
   "display_name": "Python 3",
   "language": "python",
   "name": "python3"
  },
  "language_info": {
   "codemirror_mode": {
    "name": "ipython",
    "version": 3
   },
   "file_extension": ".py",
   "mimetype": "text/x-python",
   "name": "python",
   "nbconvert_exporter": "python",
   "pygments_lexer": "ipython3",
   "version": "3.7.3"
  },
  "toc": {
   "base_numbering": 1,
   "nav_menu": {},
   "number_sections": true,
   "sideBar": true,
   "skip_h1_title": false,
   "title_cell": "Table of Contents",
   "title_sidebar": "Contents",
   "toc_cell": false,
   "toc_position": {},
   "toc_section_display": true,
   "toc_window_display": false
  }
 },
 "nbformat": 4,
 "nbformat_minor": 2
}
