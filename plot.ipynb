{
 "cells": [
  {
   "cell_type": "code",
   "execution_count": 1,
   "metadata": {},
   "outputs": [],
   "source": [
    "import pandas as pd\n",
    "import numpy as np\n",
    "import matplotlib.pyplot as plt\n",
    "from numpy import genfromtxt"
   ]
  },
  {
   "cell_type": "markdown",
   "metadata": {},
   "source": [
    "# Table 1"
   ]
  },
  {
   "cell_type": "code",
   "execution_count": null,
   "metadata": {},
   "outputs": [],
   "source": [
    "e1 = genfromtxt('./output/t1/e1.csv', delimiter = ',')\n",
    "print(np.mean(e1,axis = 0))\n",
    "print(np.std(e1,axis = 0))"
   ]
  },
  {
   "cell_type": "code",
   "execution_count": null,
   "metadata": {},
   "outputs": [],
   "source": [
    "e2 = genfromtxt('./output/t1/e2.csv', delimiter = ',')\n",
    "print(np.mean(e2,axis = 0))\n",
    "print(np.std(e2,axis = 0))"
   ]
  },
  {
   "cell_type": "code",
   "execution_count": null,
   "metadata": {},
   "outputs": [],
   "source": [
    "e3 = genfromtxt('./output/t1/e3.csv', delimiter = ',')\n",
    "print(np.mean(e3,axis = 0))\n",
    "print(np.std(e3,axis = 0))"
   ]
  },
  {
   "cell_type": "markdown",
   "metadata": {},
   "source": [
    "# Table 2"
   ]
  },
  {
   "cell_type": "code",
   "execution_count": null,
   "metadata": {},
   "outputs": [],
   "source": [
    "k1 = genfromtxt('./output/t2/k1.csv', delimiter = ',')\n",
    "for i in range(3):\n",
    "    print(sum(k1[:,i]==i+2),sum(k1[:,i]>=i+2))"
   ]
  },
  {
   "cell_type": "code",
   "execution_count": null,
   "metadata": {},
   "outputs": [],
   "source": [
    "k2 = genfromtxt('./output/t2/k2.csv', delimiter = ',')\n",
    "for i in range(3):\n",
    "    print(sum(k2[:,i]==i+2),sum(k2[:,i]>=i+2))"
   ]
  },
  {
   "cell_type": "code",
   "execution_count": 2,
   "metadata": {
    "collapsed": true
   },
   "outputs": [
    {
     "ename": "OSError",
     "evalue": "./output/t2/k3.csv not found.",
     "output_type": "error",
     "traceback": [
      "\u001b[0;31m---------------------------------------------------------------------------\u001b[0m",
      "\u001b[0;31mOSError\u001b[0m                                   Traceback (most recent call last)",
      "\u001b[0;32m<ipython-input-2-34485d67179e>\u001b[0m in \u001b[0;36m<module>\u001b[0;34m\u001b[0m\n\u001b[0;32m----> 1\u001b[0;31m \u001b[0mk3\u001b[0m \u001b[0;34m=\u001b[0m \u001b[0mgenfromtxt\u001b[0m\u001b[0;34m(\u001b[0m\u001b[0;34m'./output/t2/k3.csv'\u001b[0m\u001b[0;34m,\u001b[0m \u001b[0mdelimiter\u001b[0m \u001b[0;34m=\u001b[0m \u001b[0;34m','\u001b[0m\u001b[0;34m)\u001b[0m\u001b[0;34m\u001b[0m\u001b[0;34m\u001b[0m\u001b[0m\n\u001b[0m\u001b[1;32m      2\u001b[0m \u001b[0;32mfor\u001b[0m \u001b[0mi\u001b[0m \u001b[0;32min\u001b[0m \u001b[0mrange\u001b[0m\u001b[0;34m(\u001b[0m\u001b[0;36m3\u001b[0m\u001b[0;34m)\u001b[0m\u001b[0;34m:\u001b[0m\u001b[0;34m\u001b[0m\u001b[0;34m\u001b[0m\u001b[0m\n\u001b[1;32m      3\u001b[0m     \u001b[0mprint\u001b[0m\u001b[0;34m(\u001b[0m\u001b[0msum\u001b[0m\u001b[0;34m(\u001b[0m\u001b[0mk3\u001b[0m\u001b[0;34m[\u001b[0m\u001b[0;34m:\u001b[0m\u001b[0;34m,\u001b[0m\u001b[0mi\u001b[0m\u001b[0;34m]\u001b[0m\u001b[0;34m==\u001b[0m\u001b[0mi\u001b[0m\u001b[0;34m+\u001b[0m\u001b[0;36m2\u001b[0m\u001b[0;34m)\u001b[0m\u001b[0;34m,\u001b[0m\u001b[0msum\u001b[0m\u001b[0;34m(\u001b[0m\u001b[0mk3\u001b[0m\u001b[0;34m[\u001b[0m\u001b[0;34m:\u001b[0m\u001b[0;34m,\u001b[0m\u001b[0mi\u001b[0m\u001b[0;34m]\u001b[0m\u001b[0;34m>=\u001b[0m\u001b[0mi\u001b[0m\u001b[0;34m+\u001b[0m\u001b[0;36m2\u001b[0m\u001b[0;34m)\u001b[0m\u001b[0;34m)\u001b[0m\u001b[0;34m\u001b[0m\u001b[0;34m\u001b[0m\u001b[0m\n",
      "\u001b[0;32m~/anaconda3/lib/python3.7/site-packages/numpy/lib/npyio.py\u001b[0m in \u001b[0;36mgenfromtxt\u001b[0;34m(fname, dtype, comments, delimiter, skip_header, skip_footer, converters, missing_values, filling_values, usecols, names, excludelist, deletechars, replace_space, autostrip, case_sensitive, defaultfmt, unpack, usemask, loose, invalid_raise, max_rows, encoding)\u001b[0m\n\u001b[1;32m   1742\u001b[0m             \u001b[0mfname\u001b[0m \u001b[0;34m=\u001b[0m \u001b[0mos_fspath\u001b[0m\u001b[0;34m(\u001b[0m\u001b[0mfname\u001b[0m\u001b[0;34m)\u001b[0m\u001b[0;34m\u001b[0m\u001b[0;34m\u001b[0m\u001b[0m\n\u001b[1;32m   1743\u001b[0m         \u001b[0;32mif\u001b[0m \u001b[0misinstance\u001b[0m\u001b[0;34m(\u001b[0m\u001b[0mfname\u001b[0m\u001b[0;34m,\u001b[0m \u001b[0mbasestring\u001b[0m\u001b[0;34m)\u001b[0m\u001b[0;34m:\u001b[0m\u001b[0;34m\u001b[0m\u001b[0;34m\u001b[0m\u001b[0m\n\u001b[0;32m-> 1744\u001b[0;31m             \u001b[0mfhd\u001b[0m \u001b[0;34m=\u001b[0m \u001b[0miter\u001b[0m\u001b[0;34m(\u001b[0m\u001b[0mnp\u001b[0m\u001b[0;34m.\u001b[0m\u001b[0mlib\u001b[0m\u001b[0;34m.\u001b[0m\u001b[0m_datasource\u001b[0m\u001b[0;34m.\u001b[0m\u001b[0mopen\u001b[0m\u001b[0;34m(\u001b[0m\u001b[0mfname\u001b[0m\u001b[0;34m,\u001b[0m \u001b[0;34m'rt'\u001b[0m\u001b[0;34m,\u001b[0m \u001b[0mencoding\u001b[0m\u001b[0;34m=\u001b[0m\u001b[0mencoding\u001b[0m\u001b[0;34m)\u001b[0m\u001b[0;34m)\u001b[0m\u001b[0;34m\u001b[0m\u001b[0;34m\u001b[0m\u001b[0m\n\u001b[0m\u001b[1;32m   1745\u001b[0m             \u001b[0mown_fhd\u001b[0m \u001b[0;34m=\u001b[0m \u001b[0;32mTrue\u001b[0m\u001b[0;34m\u001b[0m\u001b[0;34m\u001b[0m\u001b[0m\n\u001b[1;32m   1746\u001b[0m         \u001b[0;32melse\u001b[0m\u001b[0;34m:\u001b[0m\u001b[0;34m\u001b[0m\u001b[0;34m\u001b[0m\u001b[0m\n",
      "\u001b[0;32m~/anaconda3/lib/python3.7/site-packages/numpy/lib/_datasource.py\u001b[0m in \u001b[0;36mopen\u001b[0;34m(path, mode, destpath, encoding, newline)\u001b[0m\n\u001b[1;32m    264\u001b[0m \u001b[0;34m\u001b[0m\u001b[0m\n\u001b[1;32m    265\u001b[0m     \u001b[0mds\u001b[0m \u001b[0;34m=\u001b[0m \u001b[0mDataSource\u001b[0m\u001b[0;34m(\u001b[0m\u001b[0mdestpath\u001b[0m\u001b[0;34m)\u001b[0m\u001b[0;34m\u001b[0m\u001b[0;34m\u001b[0m\u001b[0m\n\u001b[0;32m--> 266\u001b[0;31m     \u001b[0;32mreturn\u001b[0m \u001b[0mds\u001b[0m\u001b[0;34m.\u001b[0m\u001b[0mopen\u001b[0m\u001b[0;34m(\u001b[0m\u001b[0mpath\u001b[0m\u001b[0;34m,\u001b[0m \u001b[0mmode\u001b[0m\u001b[0;34m,\u001b[0m \u001b[0mencoding\u001b[0m\u001b[0;34m=\u001b[0m\u001b[0mencoding\u001b[0m\u001b[0;34m,\u001b[0m \u001b[0mnewline\u001b[0m\u001b[0;34m=\u001b[0m\u001b[0mnewline\u001b[0m\u001b[0;34m)\u001b[0m\u001b[0;34m\u001b[0m\u001b[0;34m\u001b[0m\u001b[0m\n\u001b[0m\u001b[1;32m    267\u001b[0m \u001b[0;34m\u001b[0m\u001b[0m\n\u001b[1;32m    268\u001b[0m \u001b[0;34m\u001b[0m\u001b[0m\n",
      "\u001b[0;32m~/anaconda3/lib/python3.7/site-packages/numpy/lib/_datasource.py\u001b[0m in \u001b[0;36mopen\u001b[0;34m(self, path, mode, encoding, newline)\u001b[0m\n\u001b[1;32m    622\u001b[0m                                       encoding=encoding, newline=newline)\n\u001b[1;32m    623\u001b[0m         \u001b[0;32melse\u001b[0m\u001b[0;34m:\u001b[0m\u001b[0;34m\u001b[0m\u001b[0;34m\u001b[0m\u001b[0m\n\u001b[0;32m--> 624\u001b[0;31m             \u001b[0;32mraise\u001b[0m \u001b[0mIOError\u001b[0m\u001b[0;34m(\u001b[0m\u001b[0;34m\"%s not found.\"\u001b[0m \u001b[0;34m%\u001b[0m \u001b[0mpath\u001b[0m\u001b[0;34m)\u001b[0m\u001b[0;34m\u001b[0m\u001b[0;34m\u001b[0m\u001b[0m\n\u001b[0m\u001b[1;32m    625\u001b[0m \u001b[0;34m\u001b[0m\u001b[0m\n\u001b[1;32m    626\u001b[0m \u001b[0;34m\u001b[0m\u001b[0m\n",
      "\u001b[0;31mOSError\u001b[0m: ./output/t2/k3.csv not found."
     ]
    }
   ],
   "source": [
    "k3 = genfromtxt('./output/t2/k3.csv', delimiter = ',')\n",
    "for i in range(3):\n",
    "    print(sum(k3[:,i]==i+2),sum(k3[:,i]>=i+2))"
   ]
  },
  {
   "cell_type": "markdown",
   "metadata": {},
   "source": [
    "# Table A.1"
   ]
  },
  {
   "cell_type": "code",
   "execution_count": null,
   "metadata": {},
   "outputs": [],
   "source": [
    "e1 = genfromtxt('./output/ta1/e1.csv', delimiter = ',')\n",
    "print(np.mean(e1,axis = 0))"
   ]
  },
  {
   "cell_type": "code",
   "execution_count": null,
   "metadata": {},
   "outputs": [],
   "source": [
    "e2 = genfromtxt('./output/ta1/e2.csv', delimiter = ',')\n",
    "print(np.mean(e2,axis = 0))"
   ]
  },
  {
   "cell_type": "markdown",
   "metadata": {},
   "source": [
    "# Table A.2"
   ]
  },
  {
   "cell_type": "code",
   "execution_count": null,
   "metadata": {},
   "outputs": [],
   "source": [
    "res = [[] for _ in range(10)]\n",
    "\n",
    "f=open(\"./output/ta2/res.csv\",'r').readlines()\n",
    "for i in range (10):\n",
    "    res[i] = [list(map(float,x.replace('[', '').replace(']', '').split(\",\"))) for x in f[i].rstrip('\\n').split(\",\")]\n",
    "\n",
    "for i in range(10):\n",
    "    print(np.unique(res [i], return_counts=True))"
   ]
  },
  {
   "cell_type": "markdown",
   "metadata": {},
   "source": [
    "# 3a"
   ]
  },
  {
   "cell_type": "code",
   "execution_count": null,
   "metadata": {},
   "outputs": [],
   "source": [
    "DCBM = genfromtxt ('./output/3a/DCBM.csv', delimiter=',')\n",
    "PCA = genfromtxt ('./output/3a/PCA.csv', delimiter=',')\n",
    "SBM = genfromtxt ('./output/3a/SBM.csv', delimiter=',')\n",
    "SC = genfromtxt ('./output/3a/SC.csv', delimiter=',')\n",
    "SCWA = genfromtxt('./output/3a/SCWA.csv', delimiter=',')\n",
    "\n",
    "plt.figure(figsize=(6, 4))\n",
    "nodes = np.array ( [200, 400, 600, 800, 1000])\n",
    "\n",
    "plt.errorbar(nodes, np.mean(SBM, axis=0), np.std(SBM,axis=0)/10, marker= 'o', label= 'SBM.MLE', lw=1, mfc= 'none', markersize=8, color= '#0000FF') \n",
    "plt.errorbar(nodes, np.mean(SC, axis=0), np.std(SC, axis=0)/10, marker='s', label='SBM.SC', lw=1, markersize=8, color= '#FF00FF')\n",
    "plt.errorbar(nodes, np.mean(PCA, axis=0), np.std(PCA, axis=0)/10, marker='v', label='PCABM.PL', lw=1, markersize=8, color= '#000000')\n",
    "plt.errorbar(nodes, np.mean(SCWA, axis=0), np.std(SCWA,axis=0)/10, marker='d', label= 'PCABM.SCWA', lw=1, mfc= 'none', markersize=8, color= '#FF0000')\n",
    "plt.errorbar(nodes, np.mean(DCBM, axis=0), np.std(DCBM,axis=0)/10, marker='o', label= 'DCBM.MLE', lw=1, mfc= 'none', markersize=8, color= '#00a3a3')\n",
    "\n",
    "axes = plt.gca()\n",
    "axes.set_xlim([150, 1050]) \n",
    "axes.set_ylim([-0.05,1.05])\n",
    "plt.ylabel('ARI', fontsize = 12)\n",
    "plt.xlabel('n',fontsize = 12)\n",
    "plt.xticks(nodes, nodes, fontsize = 12)\n",
    "plt.yticks(fontsize = 12)\n",
    "plt.legend(bbox_to_anchor=(0.7, 0.7), loc=2, borderaxespad=0., fontsize = 8)\n",
    "plt. show()\n",
    "#plt.savefig('siml.pdf',format=\"pdf\", dpi=600, bbox_ inches= 'tight')"
   ]
  },
  {
   "cell_type": "markdown",
   "metadata": {},
   "source": [
    "# 3b"
   ]
  },
  {
   "cell_type": "code",
   "execution_count": null,
   "metadata": {},
   "outputs": [],
   "source": [
    "DCBM = genfromtxt ('./output/3b/DCBM.csv', delimiter=',')\n",
    "PCA = genfromtxt ('./output/3b/PCA.csv', delimiter=',')\n",
    "SBM = genfromtxt ('./output/3b/SBM.csv', delimiter=',')\n",
    "SC = genfromtxt ('./output/3b/SC.csv', delimiter=',')\n",
    "SCWA = genfromtxt('./output/3b/SCWA.csv', delimiter=',')\n",
    "\n",
    "plt.figure(figsize=(6, 4))\n",
    "nodes = np.array ([2,3,4,5,6])\n",
    "\n",
    "plt.errorbar(nodes, np.mean(SBM, axis=0), np.std(SBM,axis=0)/10, marker= 'o', label= 'SBM.MLE', lw=1, mfc= 'none', markersize=8, color= '#0000FF') \n",
    "plt.errorbar(nodes, np.mean(SC, axis=0), np.std(SC, axis=0)/10, marker='s', label='SBM.SC', lw=1, markersize=8, color= '#FF00FF')\n",
    "plt.errorbar(nodes, np.mean(PCA, axis=0), np.std(PCA, axis=0)/10, marker='v', label='PCABM.PL', lw=1, markersize=8, color= '#000000')\n",
    "plt.errorbar(nodes, np.mean(SCWA, axis=0), np.std(SCWA,axis=0)/10, marker='d', label= 'PCABM.SCWA', lw=1, mfc= 'none', markersize=8, color= '#FF0000')\n",
    "plt.errorbar(nodes, np.mean(DCBM, axis=0), np.std(DCBM,axis=0)/10, marker='o', label= 'DCBM.MLE', lw=1, mfc= 'none', markersize=8, color= '#00a3a3')\n",
    "\n",
    "axes = plt.gca()\n",
    "axes.set_xlim([1.5, 6.5]) \n",
    "axes.set_ylim([-0.05,1.05])\n",
    "plt.ylabel ('ARI', fontsize = 12)\n",
    "plt.xlabel(r'$c_\\rho$',fontsize = 12)\n",
    "plt.xticks(nodes, nodes, fontsize = 12)\n",
    "plt.yticks(fontsize = 12)\n",
    "plt.legend(bbox_to_anchor=(0.7, 0.4), loc=2, borderaxespad=0., fontsize = 8)\n",
    "plt.show()\n",
    "#plt.savefig('siml.pdf',format=\"pdf\", dpi=600, bbox_ inches= 'tight')"
   ]
  },
  {
   "cell_type": "markdown",
   "metadata": {},
   "source": [
    "# 3c"
   ]
  },
  {
   "cell_type": "code",
   "execution_count": null,
   "metadata": {},
   "outputs": [],
   "source": [
    "DCBM = genfromtxt ('./output/3c/DCBM.csv', delimiter=',')\n",
    "PCA = genfromtxt ('./output/3c/PCA.csv', delimiter=',')\n",
    "SBM = genfromtxt ('./output/3c/SBM.csv', delimiter=',')\n",
    "SC = genfromtxt ('./output/3c/SC.csv', delimiter=',')\n",
    "SCWA = genfromtxt('./output/3c/SCWA.csv', delimiter=',')\n",
    "\n",
    "plt.figure(figsize=(6, 4))\n",
    "nodes = np.array ([0,0.4,0.8,1.2,1.6,2])\n",
    "\n",
    "plt.errorbar(nodes, np.mean(SBM, axis=0), np.std(SBM,axis=0)/10, marker= 'o', label= 'SBM.MLE', lw=1, mfc= 'none', markersize=8, color= '#0000FF') \n",
    "plt.errorbar(nodes, np.mean(SC, axis=0), np.std(SC, axis=0)/10, marker='s', label='SBM.SC', lw=1, markersize=8, color= '#FF00FF')\n",
    "plt.errorbar(nodes, np.mean(PCA, axis=0), np.std(PCA, axis=0)/10, marker='v', label='PCABM.PL', lw=1, markersize=8, color= '#000000')\n",
    "plt.errorbar(nodes, np.mean(SCWA, axis=0), np.std(SCWA,axis=0)/10, marker='d', label= 'PCABM.SCWA', lw=1, mfc= 'none', markersize=8, color= '#FF0000')\n",
    "plt.errorbar(nodes, np.mean(DCBM, axis=0), np.std(DCBM,axis=0)/10, marker='o', label= 'DCBM.MLE', lw=1, mfc= 'none', markersize=8, color= '#00a3a3')\n",
    "\n",
    "axes = plt.gca()\n",
    "axes.set_xlim([-0.2,2.2]) \n",
    "axes.set_ylim([-0.05,1.05])\n",
    "plt.ylabel ('ARI', fontsize = 12)\n",
    "plt.xlabel(r'$c_\\gamma$',fontsize = 12)\n",
    "plt.xticks(nodes, nodes, fontsize = 12)\n",
    "plt.yticks(fontsize = 12)\n",
    "plt.legend(bbox_to_anchor=(0.1, 0.45), loc=2, borderaxespad=0., fontsize = 8)\n",
    "plt.show()\n",
    "#plt.savefig('siml.pdf',format=\"pdf\", dpi=600, bbox_ inches= 'tight')"
   ]
  },
  {
   "cell_type": "markdown",
   "metadata": {},
   "source": [
    "# 3d"
   ]
  },
  {
   "cell_type": "code",
   "execution_count": null,
   "metadata": {},
   "outputs": [],
   "source": [
    "PCA = genfromtxt ('./output/3d/PCA.csv', delimiter=',')\n",
    "SCWA = genfromtxt('./output/3d/SCWA.csv', delimiter=',')\n",
    "\n",
    "plt.figure(figsize=(6, 4))\n",
    "nodes = np.array ([.5,.6,.7,.8,.9,1])\n",
    "\n",
    "plt.errorbar(nodes, np.mean(SCWA, axis=0), np.std(SCWA,axis=0)/10, marker='d', label= 'PCABM.SCWA', lw=1, mfc= 'none', markersize=8, color= '#FF0000')\n",
    "plt.errorbar(nodes, np.mean(PCA, axis=0), np.std(PCA, axis=0)/10, marker='v', label='PCABM.PLEM0', lw=1, markersize=8, color= '#000000')\n",
    "\n",
    "axes = plt.gca()\n",
    "axes.set_xlim([0.45,1.05]) \n",
    "axes.set_ylim([0.78,1.03])\n",
    "plt.ylabel ('Accuracy', fontsize = 12)\n",
    "plt.xlabel('$Initial Accuracy$',fontsize = 12)\n",
    "plt.xticks(nodes, nodes, fontsize = 12)\n",
    "plt.yticks(fontsize = 12)\n",
    "plt.legend(bbox_to_anchor=(0.7, 0.6), loc=2, borderaxespad=0., fontsize = 8)\n",
    "plt.show()\n",
    "#plt.savefig('siml.pdf',format=\"pdf\", dpi=600, bbox_ inches= 'tight')"
   ]
  },
  {
   "cell_type": "markdown",
   "metadata": {},
   "source": [
    "# 4a"
   ]
  },
  {
   "cell_type": "code",
   "execution_count": null,
   "metadata": {},
   "outputs": [],
   "source": [
    "DCBM = genfromtxt ('./output/4a/DCBM.csv', delimiter=',')\n",
    "PCA = genfromtxt ('./output/4a/PCA.csv', delimiter=',')\n",
    "SBM = genfromtxt ('./output/4a/SBM.csv', delimiter=',')\n",
    "SC = genfromtxt ('./output/4a/SC.csv', delimiter=',')\n",
    "SCWA = genfromtxt('./output/4a/SCWA.csv', delimiter=',')\n",
    "SCORE = genfromtxt('./output/4a/SCORE.csv', delimiter=',')\n",
    "\n",
    "plt.figure(figsize=(6, 4))\n",
    "nodes = np.array ([200,400,600,800,1000])\n",
    "\n",
    "plt.errorbar(nodes, np.mean(SBM, axis=0), np.std(SBM,axis=0)/10, alpha=0.7,marker= 'o', label= 'SBM.MLE', lw=1, mfc= 'none', markersize=8, color= '#0000FF') \n",
    "plt.errorbar(nodes, np.mean(SC, axis=0), np.std(SC, axis=0)/10,alpha=0.7, marker='s', label='SBM.SC', lw=1, markersize=8, color= '#FF00FF')\n",
    "plt.errorbar(nodes, np.mean(PCA, axis=0), np.std(PCA, axis=0)/10,alpha=0.7, marker='v', label='PCABM.PL', lw=1, markersize=8, color= '#000000')\n",
    "plt.errorbar(nodes, np.mean(SCWA, axis=0), np.std(SCWA,axis=0)/10,alpha=0.7, marker='d', label= 'PCABM.SCWA', lw=1, mfc= 'none', markersize=8, color= '#FF0000')\n",
    "plt.errorbar(nodes, np.mean(DCBM, axis=0), np.std(DCBM,axis=0)/10,alpha=0.7, marker='o', label= 'DCBM.MLE', lw=1, mfc= 'none', markersize=8, color= '#00a3a3')\n",
    "plt.errorbar(nodes, np.mean(SCORE, axis=0), np.std(SCORE,axis=0)/10,alpha=0.7, marker='s', label= 'SCORE', lw=1, markersize=8, color= '#FFBF00')\n",
    "\n",
    "\n",
    "axes = plt.gca()\n",
    "axes.set_xlim([100,1100]) \n",
    "axes.set_ylim([-0.05,1.05])\n",
    "plt.ylabel ('ARI', fontsize = 12)\n",
    "plt.xlabel('n',fontsize = 12)\n",
    "plt.xticks(nodes, nodes, fontsize = 12)\n",
    "plt.yticks(fontsize = 12)\n",
    "plt.legend(bbox_to_anchor=(0.6, 0.4), loc=2, borderaxespad=0., fontsize = 8)\n",
    "plt.show()\n",
    "#plt.savefig('siml.pdf',format=\"pdf\", dpi=600, bbox_ inches= 'tight')"
   ]
  },
  {
   "cell_type": "markdown",
   "metadata": {},
   "source": [
    "# 4b"
   ]
  },
  {
   "cell_type": "code",
   "execution_count": null,
   "metadata": {},
   "outputs": [],
   "source": [
    "DCBM = genfromtxt ('./output/4b/DCBM.csv', delimiter=',')\n",
    "PCA = genfromtxt ('./output/4b/PCA.csv', delimiter=',')\n",
    "SBM = genfromtxt ('./output/4b/SBM.csv', delimiter=',')\n",
    "SC = genfromtxt ('./output/4b/SC.csv', delimiter=',')\n",
    "SCWA = genfromtxt('./output/4b/SCWA.csv', delimiter=',')\n",
    "SCORE = genfromtxt('./output/4b/SCORE.csv', delimiter=',')\n",
    "\n",
    "plt.figure(figsize=(6, 4))\n",
    "nodes = np.array ([2,3,4,5,6])\n",
    "\n",
    "plt.errorbar(nodes, np.mean(SBM, axis=0), np.std(SBM,axis=0)/10,alpha=0.7, marker= 'o', label= 'SBM.MLE', lw=1, mfc= 'none', markersize=8, color= '#0000FF') \n",
    "plt.errorbar(nodes, np.mean(SC, axis=0), np.std(SC, axis=0)/10,alpha=0.7, marker='s', label='SBM.SC', lw=1, markersize=8, color= '#FF00FF')\n",
    "plt.errorbar(nodes, np.mean(PCA, axis=0), np.std(PCA, axis=0)/10,alpha=0.7, marker='v', label='PCABM.PL', lw=1, markersize=8, color= '#000000')\n",
    "plt.errorbar(nodes, np.mean(SCWA, axis=0), np.std(SCWA,axis=0)/10,alpha=0.7, marker='d', label= 'PCABM.SCWA', lw=1, mfc= 'none', markersize=8, color= '#FF0000')\n",
    "plt.errorbar(nodes, np.mean(DCBM, axis=0), np.std(DCBM,axis=0)/10,alpha=0.7, marker='o', label= 'DCBM.MLE', lw=1, mfc= 'none', markersize=8, color= '#00a3a3')\n",
    "plt.errorbar(nodes, np.mean(SCORE, axis=0), np.std(SCORE,axis=0)/10, alpha=0.7,marker='s', label= 'SCORE', lw=1, markersize=8, color= '#FFBF00')\n",
    "\n",
    "\n",
    "axes = plt.gca()\n",
    "axes.set_xlim([1.5,6.5]) \n",
    "axes.set_ylim([-0.05,1.05])\n",
    "plt.ylabel ('ARI', fontsize = 12)\n",
    "plt.xlabel(r'$c_\\rho$',fontsize = 12)\n",
    "plt.xticks(nodes, nodes, fontsize = 12)\n",
    "plt.yticks(fontsize = 12)\n",
    "plt.legend(bbox_to_anchor=(0.7, 0.75), loc=2, borderaxespad=0., fontsize = 8)\n",
    "plt.show()\n",
    "#plt.savefig('siml.pdf',format=\"pdf\", dpi=600, bbox_ inches= 'tight')"
   ]
  },
  {
   "cell_type": "markdown",
   "metadata": {},
   "source": [
    "# 6"
   ]
  },
  {
   "cell_type": "code",
   "execution_count": null,
   "metadata": {},
   "outputs": [],
   "source": [
    "T = genfromtxt('./output/6/T.csv',delimiter=',')\n",
    "F = genfromtxt('./output/6/F.csv',delimiter=',')\n",
    "B = genfromtxt('./output/6/B.csv',delimiter=',')\n",
    "S = genfromtxt('./output/6/S.csv',delimiter=',')\n",
    "N = genfromtxt('./output/6/N.csv',delimiter=',')"
   ]
  },
  {
   "cell_type": "code",
   "execution_count": null,
   "metadata": {},
   "outputs": [],
   "source": [
    "plt.figure(figsize=(6, 4))\n",
    "nodes = np.array([0, 0.1, 0.2,0.3,0.4,0.5,0.6,0.7,0.8,0.9])\n",
    "\n",
    "plt.errorbar(nodes, np.mean(B,axis=0), np.std(B,axis=0)/10, marker='>', label='Both Covariates', lw=1, mfc='none', markersize=8, color='#008ECC') \n",
    "plt.errorbar(nodes, np.mean(T,axis=0), np.std(T,axis=0)/10, marker='x', label='Oracle', lw=1, markersize=8, color= '#FF0000') \n",
    "plt.errorbar(nodes, np.mean(S,axis=0), np.std(S,axis=0)/10, marker='o', label='Selected Covariates', lw=1, mfc='none', markersize=8, color= '#CC7722') \n",
    "plt.errorbar(nodes, np.mean(N,axis=0), np.std(N,axis=0)/10, marker='^', label='No Covariates', lw=1, mfc='none', markersize=8, color= '#710193') \n",
    "plt.errorbar(nodes, np.mean(F,axis=0), np.std(F,axis=0)/10, marker='D', label='Only False Covariates', lw=1, mfc='none', markersize=8, color='#299617')\n",
    "\n",
    "axes = plt.gca()\n",
    "axes.set_xlim([-0.05, .95]) \n",
    "axes.set_ylim([-0.05, 1.05])\n",
    "plt.ylabel('ARI', fontsize = 12)\n",
    "plt.xlabel('Correlation',fontsize = 12)\n",
    "plt.xticks(nodes, nodes, fontsize = 12)\n",
    "plt.yticks(fontsize = 12)\n",
    "plt.legend(bbox_to_anchor=(0.1, 0.6), loc=2, borderaxespad=0., fontsize = 8) \n",
    "plt.show()\n",
    "#plt.savefig('sim_corr.pdf',format=\"pdf\", dpi=600, bbox_inches='tight')"
   ]
  }
 ],
 "metadata": {
  "kernelspec": {
   "display_name": "Python 3",
   "language": "python",
   "name": "python3"
  },
  "language_info": {
   "codemirror_mode": {
    "name": "ipython",
    "version": 3
   },
   "file_extension": ".py",
   "mimetype": "text/x-python",
   "name": "python",
   "nbconvert_exporter": "python",
   "pygments_lexer": "ipython3",
   "version": "3.7.3"
  },
  "toc": {
   "base_numbering": 1,
   "nav_menu": {},
   "number_sections": true,
   "sideBar": true,
   "skip_h1_title": false,
   "title_cell": "Table of Contents",
   "title_sidebar": "Contents",
   "toc_cell": false,
   "toc_position": {},
   "toc_section_display": true,
   "toc_window_display": true
  }
 },
 "nbformat": 4,
 "nbformat_minor": 2
}
